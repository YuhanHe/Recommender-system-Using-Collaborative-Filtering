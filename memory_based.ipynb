{
  "nbformat": 4,
  "nbformat_minor": 0,
  "metadata": {
    "colab": {
      "name": "memory_based.ipynb",
      "version": "0.3.2",
      "provenance": []
    },
    "kernelspec": {
      "name": "python3",
      "display_name": "Python 3"
    }
  },
  "cells": [
    {
      "cell_type": "code",
      "metadata": {
        "id": "b2Qr9nop3HRv",
        "colab_type": "code",
        "colab": {}
      },
      "source": [
        "!nvidia-smi"
      ],
      "execution_count": 0,
      "outputs": []
    },
    {
      "cell_type": "markdown",
      "metadata": {
        "id": "s2D3yqk2n6NU",
        "colab_type": "text"
      },
      "source": [
        "### Install `surprise` library"
      ]
    },
    {
      "cell_type": "code",
      "metadata": {
        "id": "Zrpst9KbvBxT",
        "colab_type": "code",
        "colab": {}
      },
      "source": [
        "!pip install surprise"
      ],
      "execution_count": 0,
      "outputs": []
    },
    {
      "cell_type": "markdown",
      "metadata": {
        "id": "h0exFSfSn5k9",
        "colab_type": "text"
      },
      "source": [
        ""
      ]
    },
    {
      "cell_type": "markdown",
      "metadata": {
        "id": "oYMBGGLvn_9k",
        "colab_type": "text"
      },
      "source": [
        "### Define model"
      ]
    },
    {
      "cell_type": "code",
      "metadata": {
        "id": "rsusj_YIuPyb",
        "colab_type": "code",
        "colab": {}
      },
      "source": [
        "from surprise import KNNBasic\n",
        "from surprise import Dataset\n",
        "from surprise.model_selection import cross_validate\n",
        "# algo = KNNBasic()\n",
        "sim_options_1 = {'name': 'cosine',\n",
        "               'user_based': True  # compute  similarities between items\n",
        "               }\n",
        "sim_options_2 = {'name': 'cosine',\n",
        "               'user_based': False  # compute  similarities between items\n",
        "               }\n",
        "user_c = KNNBasic(sim_options=sim_options_1)\n",
        "item_c = KNNBasic(sim_options=sim_options_2)\n",
        "\n",
        "sim_options_3 = {'name': 'pearson_baseline',\n",
        "               'user_based': True  # compute  similarities between items\n",
        "               }\n",
        "sim_options_4 = {'name': 'pearson_baseline',\n",
        "               'user_based': False  # compute  similarities between items\n",
        "               }\n",
        "user_p = KNNBasic(sim_options=sim_options_3)\n",
        "item_p = KNNBasic(sim_options=sim_options_4)\n",
        "\n",
        "# Load the movielens-100k dataset (download it if needed).\n",
        "data_100k = Dataset.load_builtin('ml-100k')\n",
        "# Load the movielens-1m dataset (download it if needed).\n",
        "data_1m = Dataset.load_builtin('ml-1m')"
      ],
      "execution_count": 0,
      "outputs": []
    },
    {
      "cell_type": "markdown",
      "metadata": {
        "id": "rIO91lu4oDdU",
        "colab_type": "text"
      },
      "source": [
        "### Cross validation"
      ]
    },
    {
      "cell_type": "code",
      "metadata": {
        "id": "1dEJqMPzzPem",
        "colab_type": "code",
        "outputId": "b083d5df-7918-4604-e4e0-2e11f64b22a3",
        "colab": {
          "base_uri": "https://localhost:8080/",
          "height": 484
        }
      },
      "source": [
        "cross_validate(user_c, data_100k, measures=['RMSE'], cv=5, verbose=True)"
      ],
      "execution_count": 0,
      "outputs": [
        {
          "output_type": "stream",
          "text": [
            "Computing the cosine similarity matrix...\n",
            "Done computing similarity matrix.\n",
            "Computing the cosine similarity matrix...\n",
            "Done computing similarity matrix.\n",
            "Computing the cosine similarity matrix...\n",
            "Done computing similarity matrix.\n",
            "Computing the cosine similarity matrix...\n",
            "Done computing similarity matrix.\n",
            "Computing the cosine similarity matrix...\n",
            "Done computing similarity matrix.\n",
            "Evaluating RMSE of algorithm KNNBasic on 5 split(s).\n",
            "\n",
            "                  Fold 1  Fold 2  Fold 3  Fold 4  Fold 5  Mean    Std     \n",
            "RMSE (testset)    1.0186  1.0181  1.0146  1.0265  1.0074  1.0171  0.0062  \n",
            "Fit time          0.97    0.99    1.01    0.96    1.01    0.99    0.02    \n",
            "Test time         4.12    3.71    4.04    3.72    4.13    3.94    0.19    \n"
          ],
          "name": "stdout"
        },
        {
          "output_type": "execute_result",
          "data": {
            "text/plain": [
              "{'fit_time': (0.9693911075592041,\n",
              "  0.9925189018249512,\n",
              "  1.008324384689331,\n",
              "  0.9570386409759521,\n",
              "  1.011314868927002),\n",
              " 'test_rmse': array([1.01861027, 1.01810124, 1.01461508, 1.02649028, 1.00743474]),\n",
              " 'test_time': (4.116772174835205,\n",
              "  3.70839786529541,\n",
              "  4.040791988372803,\n",
              "  3.7199482917785645,\n",
              "  4.133737087249756)}"
            ]
          },
          "metadata": {
            "tags": []
          },
          "execution_count": 12
        }
      ]
    },
    {
      "cell_type": "code",
      "metadata": {
        "id": "oXbt97hd9uCx",
        "colab_type": "code",
        "outputId": "713cbef4-28ef-4900-be25-3921bd933356",
        "colab": {
          "base_uri": "https://localhost:8080/",
          "height": 242
        }
      },
      "source": [
        "cross_validate(user_c, data_100k, measures=['RMSE'], cv=2, verbose=True)"
      ],
      "execution_count": 0,
      "outputs": [
        {
          "output_type": "stream",
          "text": [
            "Computing the cosine similarity matrix...\n",
            "Done computing similarity matrix.\n",
            "Computing the cosine similarity matrix...\n",
            "Done computing similarity matrix.\n",
            "Evaluating RMSE of algorithm KNNBasic on 2 split(s).\n",
            "\n",
            "                  Fold 1  Fold 2  Mean    Std     \n",
            "RMSE (testset)    1.0289  1.0310  1.0300  0.0011  \n",
            "Fit time          1.00    0.65    0.83    0.18    \n",
            "Test time         6.73    7.28    7.00    0.27    \n"
          ],
          "name": "stdout"
        },
        {
          "output_type": "execute_result",
          "data": {
            "text/plain": [
              "{'fit_time': (1.00254225730896, 0.6521501541137695),\n",
              " 'test_rmse': array([1.02889145, 1.03101536]),\n",
              " 'test_time': (6.729492664337158, 7.278811693191528)}"
            ]
          },
          "metadata": {
            "tags": []
          },
          "execution_count": 18
        }
      ]
    },
    {
      "cell_type": "code",
      "metadata": {
        "id": "-9PEORfrzWda",
        "colab_type": "code",
        "outputId": "67acf92f-ee88-4c37-ae7f-6fb09c50ffbe",
        "colab": {
          "base_uri": "https://localhost:8080/",
          "height": 484
        }
      },
      "source": [
        "cross_validate(item_c, data_100k, measures=['RMSE'], cv=5, verbose=True)"
      ],
      "execution_count": 0,
      "outputs": [
        {
          "output_type": "stream",
          "text": [
            "Computing the cosine similarity matrix...\n",
            "Done computing similarity matrix.\n",
            "Computing the cosine similarity matrix...\n",
            "Done computing similarity matrix.\n",
            "Computing the cosine similarity matrix...\n",
            "Done computing similarity matrix.\n",
            "Computing the cosine similarity matrix...\n",
            "Done computing similarity matrix.\n",
            "Computing the cosine similarity matrix...\n",
            "Done computing similarity matrix.\n",
            "Evaluating RMSE of algorithm KNNBasic on 5 split(s).\n",
            "\n",
            "                  Fold 1  Fold 2  Fold 3  Fold 4  Fold 5  Mean    Std     \n",
            "RMSE (testset)    1.0401  1.0170  1.0220  1.0210  1.0338  1.0268  0.0087  \n",
            "Fit time          2.09    1.69    1.71    1.76    1.75    1.80    0.15    \n",
            "Test time         4.53    4.29    4.75    4.42    4.70    4.54    0.17    \n"
          ],
          "name": "stdout"
        },
        {
          "output_type": "execute_result",
          "data": {
            "text/plain": [
              "{'fit_time': (2.0872247219085693,\n",
              "  1.690751075744629,\n",
              "  1.7095229625701904,\n",
              "  1.7603285312652588,\n",
              "  1.7474620342254639),\n",
              " 'test_rmse': array([1.04005635, 1.01700547, 1.02200197, 1.02095062, 1.03382281]),\n",
              " 'test_time': (4.528160095214844,\n",
              "  4.289588451385498,\n",
              "  4.749525308609009,\n",
              "  4.423441171646118,\n",
              "  4.696063280105591)}"
            ]
          },
          "metadata": {
            "tags": []
          },
          "execution_count": 19
        }
      ]
    },
    {
      "cell_type": "code",
      "metadata": {
        "id": "w2wzHJhq92T1",
        "colab_type": "code",
        "outputId": "188fa2fb-d68e-4151-f248-ef69c077edcc",
        "colab": {
          "base_uri": "https://localhost:8080/",
          "height": 242
        }
      },
      "source": [
        "cross_validate(item_c, data_100k, measures=['RMSE'], cv=2, verbose=True)"
      ],
      "execution_count": 0,
      "outputs": [
        {
          "output_type": "stream",
          "text": [
            "Computing the cosine similarity matrix...\n",
            "Done computing similarity matrix.\n",
            "Computing the cosine similarity matrix...\n",
            "Done computing similarity matrix.\n",
            "Evaluating RMSE of algorithm KNNBasic on 2 split(s).\n",
            "\n",
            "                  Fold 1  Fold 2  Mean    Std     \n",
            "RMSE (testset)    1.0465  1.0493  1.0479  0.0014  \n",
            "Fit time          0.99    1.07    1.03    0.04    \n",
            "Test time         8.16    8.06    8.11    0.05    \n"
          ],
          "name": "stdout"
        },
        {
          "output_type": "execute_result",
          "data": {
            "text/plain": [
              "{'fit_time': (0.9910664558410645, 1.0687696933746338),\n",
              " 'test_rmse': array([1.04646515, 1.04928135]),\n",
              " 'test_time': (8.164991617202759, 8.064787149429321)}"
            ]
          },
          "metadata": {
            "tags": []
          },
          "execution_count": 20
        }
      ]
    },
    {
      "cell_type": "code",
      "metadata": {
        "id": "iRVd1MTMziuj",
        "colab_type": "code",
        "outputId": "d62d21f9-4115-4786-a726-33903a90ea9c",
        "colab": {
          "base_uri": "https://localhost:8080/",
          "height": 484
        }
      },
      "source": [
        "cross_validate(user_c, data_1m, measures=['RMSE'], cv=5, verbose=True)"
      ],
      "execution_count": 0,
      "outputs": [
        {
          "output_type": "stream",
          "text": [
            "Computing the cosine similarity matrix...\n",
            "Done computing similarity matrix.\n",
            "Computing the cosine similarity matrix...\n",
            "Done computing similarity matrix.\n",
            "Computing the cosine similarity matrix...\n",
            "Done computing similarity matrix.\n",
            "Computing the cosine similarity matrix...\n",
            "Done computing similarity matrix.\n",
            "Computing the cosine similarity matrix...\n",
            "Done computing similarity matrix.\n",
            "Evaluating RMSE of algorithm KNNBasic on 5 split(s).\n",
            "\n",
            "                  Fold 1  Fold 2  Fold 3  Fold 4  Fold 5  Mean    Std     \n",
            "RMSE (testset)    0.9765  0.9754  0.9790  0.9764  0.9770  0.9768  0.0012  \n",
            "Fit time          73.28   73.25   72.78   74.19   73.84   73.47   0.49    \n",
            "Test time         145.69  148.30  143.51  146.86  145.57  145.99  1.58    \n"
          ],
          "name": "stdout"
        },
        {
          "output_type": "execute_result",
          "data": {
            "text/plain": [
              "{'fit_time': (73.27971410751343,\n",
              "  73.24561834335327,\n",
              "  72.78062462806702,\n",
              "  74.18952226638794,\n",
              "  73.83787965774536),\n",
              " 'test_rmse': array([0.97647213, 0.97543626, 0.9789778 , 0.97638389, 0.97697937]),\n",
              " 'test_time': (145.68726801872253,\n",
              "  148.30117654800415,\n",
              "  143.50819969177246,\n",
              "  146.8632836341858,\n",
              "  145.56701254844666)}"
            ]
          },
          "metadata": {
            "tags": []
          },
          "execution_count": 16
        }
      ]
    },
    {
      "cell_type": "code",
      "metadata": {
        "id": "d5HoPjeL9-gc",
        "colab_type": "code",
        "outputId": "fca0d221-f0c4-4a81-ba3a-6a15b8154183",
        "colab": {
          "base_uri": "https://localhost:8080/",
          "height": 242
        }
      },
      "source": [
        "cross_validate(user_c, data_1m, measures=['RMSE'], cv=2, verbose=True)"
      ],
      "execution_count": 0,
      "outputs": [
        {
          "output_type": "stream",
          "text": [
            "Computing the cosine similarity matrix...\n",
            "Done computing similarity matrix.\n",
            "Computing the cosine similarity matrix...\n",
            "Done computing similarity matrix.\n",
            "Evaluating RMSE of algorithm KNNBasic on 2 split(s).\n",
            "\n",
            "                  Fold 1  Fold 2  Mean    Std     \n",
            "RMSE (testset)    0.9796  0.9852  0.9824  0.0028  \n",
            "Fit time          37.51   37.61   37.56   0.05    \n",
            "Test time         245.85  242.68  244.27  1.58    \n"
          ],
          "name": "stdout"
        },
        {
          "output_type": "execute_result",
          "data": {
            "text/plain": [
              "{'fit_time': (37.51013660430908, 37.605183124542236),\n",
              " 'test_rmse': array([0.97956373, 0.98520458]),\n",
              " 'test_time': (245.84702038764954, 242.68385672569275)}"
            ]
          },
          "metadata": {
            "tags": []
          },
          "execution_count": 21
        }
      ]
    },
    {
      "cell_type": "code",
      "metadata": {
        "id": "EvwElyISzeb6",
        "colab_type": "code",
        "outputId": "e762d5ac-d8eb-4f74-8c56-0835211ab09d",
        "colab": {
          "base_uri": "https://localhost:8080/",
          "height": 484
        }
      },
      "source": [
        "cross_validate(item_c, data_1m, measures=['RMSE'], cv=5, verbose=True)"
      ],
      "execution_count": 0,
      "outputs": [
        {
          "output_type": "stream",
          "text": [
            "Computing the cosine similarity matrix...\n",
            "Done computing similarity matrix.\n",
            "Computing the cosine similarity matrix...\n",
            "Done computing similarity matrix.\n",
            "Computing the cosine similarity matrix...\n",
            "Done computing similarity matrix.\n",
            "Computing the cosine similarity matrix...\n",
            "Done computing similarity matrix.\n",
            "Computing the cosine similarity matrix...\n",
            "Done computing similarity matrix.\n",
            "Evaluating RMSE of algorithm KNNBasic on 5 split(s).\n",
            "\n",
            "                  Fold 1  Fold 2  Fold 3  Fold 4  Fold 5  Mean    Std     \n",
            "RMSE (testset)    1.0011  1.0000  1.0008  0.9958  0.9983  0.9992  0.0020  \n",
            "Fit time          25.09   25.25   25.45   24.80   25.45   25.21   0.24    \n",
            "Test time         74.33   73.30   72.88   71.98   73.24   73.15   0.76    \n"
          ],
          "name": "stdout"
        },
        {
          "output_type": "execute_result",
          "data": {
            "text/plain": [
              "{'fit_time': (25.093832969665527,\n",
              "  25.248011112213135,\n",
              "  25.454864501953125,\n",
              "  24.803497791290283,\n",
              "  25.453046560287476),\n",
              " 'test_rmse': array([1.00105151, 1.00000923, 1.00081313, 0.99581358, 0.9982525 ]),\n",
              " 'test_time': (74.3343071937561,\n",
              "  73.29599785804749,\n",
              "  72.88040351867676,\n",
              "  71.98088264465332,\n",
              "  73.24220252037048)}"
            ]
          },
          "metadata": {
            "tags": []
          },
          "execution_count": 17
        }
      ]
    },
    {
      "cell_type": "code",
      "metadata": {
        "id": "RjXrTkZ--BL8",
        "colab_type": "code",
        "outputId": "2223395d-c86b-4383-8694-bf29ed1b19af",
        "colab": {
          "base_uri": "https://localhost:8080/",
          "height": 242
        }
      },
      "source": [
        "cross_validate(item_c, data_1m, measures=['RMSE'], cv=2, verbose=True)"
      ],
      "execution_count": 0,
      "outputs": [
        {
          "output_type": "stream",
          "text": [
            "Computing the cosine similarity matrix...\n",
            "Done computing similarity matrix.\n",
            "Computing the cosine similarity matrix...\n",
            "Done computing similarity matrix.\n",
            "Evaluating RMSE of algorithm KNNBasic on 2 split(s).\n",
            "\n",
            "                  Fold 1  Fold 2  Mean    Std     \n",
            "RMSE (testset)    1.0120  1.0123  1.0122  0.0002  \n",
            "Fit time          12.96   13.41   13.18   0.23    \n",
            "Test time         128.25  127.79  128.02  0.23    \n"
          ],
          "name": "stdout"
        },
        {
          "output_type": "execute_result",
          "data": {
            "text/plain": [
              "{'fit_time': (12.955428838729858, 13.413088083267212),\n",
              " 'test_rmse': array([1.01198715, 1.01234307]),\n",
              " 'test_time': (128.254399061203, 127.78569626808167)}"
            ]
          },
          "metadata": {
            "tags": []
          },
          "execution_count": 22
        }
      ]
    }
  ]
}