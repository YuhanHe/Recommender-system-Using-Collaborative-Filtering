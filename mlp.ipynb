{
  "nbformat": 4,
  "nbformat_minor": 0,
  "metadata": {
    "colab": {
      "name": "mlp.ipynb",
      "version": "0.3.2",
      "provenance": [],
      "collapsed_sections": []
    },
    "kernelspec": {
      "name": "python3",
      "display_name": "Python 3"
    },
    "accelerator": "GPU"
  },
  "cells": [
    {
      "cell_type": "markdown",
      "metadata": {
        "id": "rAxzs1s-WoLt",
        "colab_type": "text"
      },
      "source": [
        "# MLP model"
      ]
    },
    {
      "cell_type": "markdown",
      "metadata": {
        "id": "COQNzDb0et-B",
        "colab_type": "text"
      },
      "source": [
        "### Set dataset and current working dir"
      ]
    },
    {
      "cell_type": "code",
      "metadata": {
        "id": "h35ORXKvesDr",
        "colab_type": "code",
        "outputId": "8de3b1a5-b431-45c2-ef64-53ce02708eaf",
        "colab": {
          "base_uri": "https://localhost:8080/",
          "height": 383
        }
      },
      "source": [
        "!nvidia-smi\n",
        "%cd /content\n",
        "!git clone https://github.com/Brycexu727/movielens-dataset.git\n",
        "%cd movielens-dataset"
      ],
      "execution_count": 1,
      "outputs": [
        {
          "output_type": "stream",
          "text": [
            "Sun Aug 11 13:09:36 2019       \n",
            "+-----------------------------------------------------------------------------+\n",
            "| NVIDIA-SMI 418.67       Driver Version: 410.79       CUDA Version: 10.0     |\n",
            "|-------------------------------+----------------------+----------------------+\n",
            "| GPU  Name        Persistence-M| Bus-Id        Disp.A | Volatile Uncorr. ECC |\n",
            "| Fan  Temp  Perf  Pwr:Usage/Cap|         Memory-Usage | GPU-Util  Compute M. |\n",
            "|===============================+======================+======================|\n",
            "|   0  Tesla T4            Off  | 00000000:00:04.0 Off |                    0 |\n",
            "| N/A   49C    P8    16W /  70W |      0MiB / 15079MiB |      0%      Default |\n",
            "+-------------------------------+----------------------+----------------------+\n",
            "                                                                               \n",
            "+-----------------------------------------------------------------------------+\n",
            "| Processes:                                                       GPU Memory |\n",
            "|  GPU       PID   Type   Process name                             Usage      |\n",
            "|=============================================================================|\n",
            "|  No running processes found                                                 |\n",
            "+-----------------------------------------------------------------------------+\n",
            "/content\n",
            "fatal: destination path 'movielens-dataset' already exists and is not an empty directory.\n",
            "/content/movielens-dataset\n"
          ],
          "name": "stdout"
        }
      ]
    },
    {
      "cell_type": "markdown",
      "metadata": {
        "id": "IunrqH97deq4",
        "colab_type": "text"
      },
      "source": [
        "### Import necessary modules"
      ]
    },
    {
      "cell_type": "code",
      "metadata": {
        "id": "RUpKrnLpbyT6",
        "colab_type": "code",
        "outputId": "5ba21855-527c-4ff3-ee57-64d04c83577e",
        "colab": {
          "base_uri": "https://localhost:8080/",
          "height": 35
        }
      },
      "source": [
        "import pandas as pd\n",
        "import numpy as np\n",
        "from sklearn.model_selection import train_test_split\n",
        "from sklearn.metrics import mean_squared_error\n",
        "from collections import defaultdict\n",
        "from keras.layers import Embedding, Reshape, Activation\n",
        "from keras.layers import Input, Dense, Flatten, Dropout\n",
        "from keras.layers.merge import Dot, multiply, concatenate\n",
        "from keras.models import Sequential, Model"
      ],
      "execution_count": 2,
      "outputs": [
        {
          "output_type": "stream",
          "text": [
            "Using TensorFlow backend.\n"
          ],
          "name": "stderr"
        }
      ]
    },
    {
      "cell_type": "markdown",
      "metadata": {
        "id": "6AWHJB2UbnGn",
        "colab_type": "text"
      },
      "source": [
        "### Set MLP parameters"
      ]
    },
    {
      "cell_type": "code",
      "metadata": {
        "id": "ENk0nqA7bmg0",
        "colab_type": "code",
        "colab": {}
      },
      "source": [
        "#train_test_ratio=50 # eg. 50 stands for 50% training, 20% for testing\n",
        "train_test_ratio=80 # eg. 80 stands for 80% for training, 20% for testing\n",
        "\n",
        "epoch_size = 20\n",
        "\n",
        "data_set_name = \"ml-100k\"\n",
        "#data_set_name = \"ml-1m\""
      ],
      "execution_count": 0,
      "outputs": []
    },
    {
      "cell_type": "markdown",
      "metadata": {
        "id": "EBxGo_b-iCsJ",
        "colab_type": "text"
      },
      "source": [
        "### train and test"
      ]
    },
    {
      "cell_type": "code",
      "metadata": {
        "id": "t6knNU4dWntH",
        "colab_type": "code",
        "outputId": "3bda46fd-6d9a-4d9c-9412-19b82a5bc898",
        "colab": {
          "base_uri": "https://localhost:8080/",
          "height": 1000
        }
      },
      "source": [
        "def MLP(item_num, user_num,hidden_feature=30):\n",
        "    user_in = Input(shape=(1,), dtype='int32')\n",
        "    user_embedding = Embedding(user_num+1, hidden_feature, name=\"user\")(user_in)\n",
        "    user_bis = Embedding(user_num+1, 1, name=\"userbias\")(user_in)\n",
        "    \n",
        "    movie_in = Input(shape=(1,), dtype='int32')\n",
        "    movie_embedding = Embedding(item_num+1, hidden_feature, name=\"movie\")(movie_in)\n",
        "    movie_bis = Embedding(item_num+1, 1, name=\"movie_bias\")(movie_in)\n",
        "\n",
        "    hidden_output = Dense(1)(Dense(20, activation=\"tanh\")(Flatten()(concatenate([Dropout(0.5)(multiply([movie_embedding, user_embedding])), user_bis, movie_bis]))))\n",
        "\n",
        "    m = Model(\n",
        "        inputs=[movie_in, user_in], \n",
        "        outputs=hidden_output\n",
        "    )\n",
        "    \n",
        "    m.compile(\n",
        "        loss='mse', \n",
        "        optimizer='adam', \n",
        "        metrics=[\"mse\"]\n",
        "    )\n",
        "\n",
        "    return m\n",
        "def data_process_mlp(data_set_name, train_test_ratio=50):\n",
        "    data_frame_title = [\n",
        "        'userId', \n",
        "        'movieId', \n",
        "        'rating', \n",
        "        'timestamp'\n",
        "        ]\n",
        "    select = [\n",
        "        \"userId\", \n",
        "        \"movieId\", \n",
        "        \"rating\"]\n",
        "    if data_set_name == \"ml-100k\":\n",
        "        data = pd.read_csv(\n",
        "            './ml-100k/u.data', \n",
        "            sep ='\\t', \n",
        "            names=data_frame_title)\n",
        "    elif data_set_name == \"ml-1m\":\n",
        "        data = pd.read_csv(\n",
        "            './ml-1m/ratings.dat', \n",
        "            sep='::', \n",
        "            names=data_frame_title)\n",
        "    else:\n",
        "        print(\"unknown data set!\")\n",
        "    \n",
        "    val = 1\n",
        "    movies = {}\n",
        "    dic1 = defaultdict(int)\n",
        "    for e in data[\"movieId\"]:\n",
        "        dic1[e] += 1\n",
        "    for e in dic1:\n",
        "        movies[e] = val\n",
        "        val += 1\n",
        "    data[\"movieId\"] = data[\"movieId\"].map(movies)\n",
        "\n",
        "    val = 1\n",
        "    users = {}\n",
        "    dic2 = defaultdict(int)\n",
        "    for e in data[\"movieId\"]:\n",
        "        dic2[e] += 1\n",
        "    for e in dic2:\n",
        "        users[e] = val\n",
        "        val += 1\n",
        "   \n",
        "    data[\"movieId\"] = data[\"movieId\"].map(users)\n",
        "\n",
        "    split_part = np.percentile(data[\"timestamp\"], train_test_ratio)\n",
        "    \n",
        "    test_data = data[data.timestamp>=split_part][select]\n",
        "    train_data = data[data.timestamp<split_part][select]\n",
        " \n",
        "    user_num = max(data[\"userId\"].tolist())\n",
        "    item_num = max(data[\"movieId\"].tolist())\n",
        "\n",
        "    return train_data, test_data, user_num, item_num, movies\n",
        "\n",
        "train_data, test_data, user_num, item_num, movies =\\\n",
        "data_process_mlp(data_set_name)\n",
        "\n",
        "model = MLP(item_num, user_num)\n",
        "\n",
        "train = model.fit(\n",
        "    [\n",
        "        np.array([[e] for e in train_data[\"movieId\"]]),\n",
        "        np.array([[e] for e in train_data[\"userId\"]])\n",
        "    ],\n",
        "    np.array([[e] for e in train_data[\"rating\"]]),\n",
        "    epochs=epoch_size,\n",
        "    validation_split=0.2, \n",
        "    verbose=1\n",
        ")\n",
        "\n",
        "test = model.predict([\n",
        "    np.array([[e] for e in test_data[\"movieId\"]]),\n",
        "    np.array([[e] for e in test_data[\"userId\"]])\n",
        "])\n",
        "\n",
        "print(\"Test RMSE: %s\" % np.sqrt(mean_squared_error(test_data[\"rating\"], test)))"
      ],
      "execution_count": 4,
      "outputs": [
        {
          "output_type": "stream",
          "text": [
            "WARNING: Logging before flag parsing goes to stderr.\n",
            "W0811 13:09:51.648156 140364200474496 deprecation_wrapper.py:119] From /usr/local/lib/python3.6/dist-packages/keras/backend/tensorflow_backend.py:74: The name tf.get_default_graph is deprecated. Please use tf.compat.v1.get_default_graph instead.\n",
            "\n",
            "W0811 13:09:51.661111 140364200474496 deprecation_wrapper.py:119] From /usr/local/lib/python3.6/dist-packages/keras/backend/tensorflow_backend.py:517: The name tf.placeholder is deprecated. Please use tf.compat.v1.placeholder instead.\n",
            "\n",
            "W0811 13:09:51.663580 140364200474496 deprecation_wrapper.py:119] From /usr/local/lib/python3.6/dist-packages/keras/backend/tensorflow_backend.py:4138: The name tf.random_uniform is deprecated. Please use tf.random.uniform instead.\n",
            "\n",
            "W0811 13:09:51.700240 140364200474496 deprecation_wrapper.py:119] From /usr/local/lib/python3.6/dist-packages/keras/backend/tensorflow_backend.py:133: The name tf.placeholder_with_default is deprecated. Please use tf.compat.v1.placeholder_with_default instead.\n",
            "\n",
            "W0811 13:09:51.708598 140364200474496 deprecation.py:506] From /usr/local/lib/python3.6/dist-packages/keras/backend/tensorflow_backend.py:3445: calling dropout (from tensorflow.python.ops.nn_ops) with keep_prob is deprecated and will be removed in a future version.\n",
            "Instructions for updating:\n",
            "Please use `rate` instead of `keep_prob`. Rate should be set to `rate = 1 - keep_prob`.\n",
            "W0811 13:09:51.751636 140364200474496 deprecation_wrapper.py:119] From /usr/local/lib/python3.6/dist-packages/keras/optimizers.py:790: The name tf.train.Optimizer is deprecated. Please use tf.compat.v1.train.Optimizer instead.\n",
            "\n",
            "W0811 13:09:52.229116 140364200474496 deprecation_wrapper.py:119] From /usr/local/lib/python3.6/dist-packages/keras/backend/tensorflow_backend.py:986: The name tf.assign_add is deprecated. Please use tf.compat.v1.assign_add instead.\n",
            "\n"
          ],
          "name": "stderr"
        },
        {
          "output_type": "stream",
          "text": [
            "Train on 39998 samples, validate on 10000 samples\n",
            "Epoch 1/20\n",
            "39998/39998 [==============================] - 6s 148us/step - loss: 2.2096 - mean_squared_error: 2.2096 - val_loss: 0.9186 - val_mean_squared_error: 0.9186\n",
            "Epoch 2/20\n",
            "39998/39998 [==============================] - 5s 117us/step - loss: 0.8315 - mean_squared_error: 0.8315 - val_loss: 0.8696 - val_mean_squared_error: 0.8696\n",
            "Epoch 3/20\n",
            "39998/39998 [==============================] - 5s 117us/step - loss: 0.7105 - mean_squared_error: 0.7105 - val_loss: 0.8798 - val_mean_squared_error: 0.8798\n",
            "Epoch 4/20\n",
            "39998/39998 [==============================] - 5s 116us/step - loss: 0.6239 - mean_squared_error: 0.6239 - val_loss: 0.8866 - val_mean_squared_error: 0.8866\n",
            "Epoch 5/20\n",
            "39998/39998 [==============================] - 5s 116us/step - loss: 0.5687 - mean_squared_error: 0.5687 - val_loss: 0.8914 - val_mean_squared_error: 0.8914\n",
            "Epoch 6/20\n",
            "39998/39998 [==============================] - 5s 115us/step - loss: 0.5452 - mean_squared_error: 0.5452 - val_loss: 0.8979 - val_mean_squared_error: 0.8979\n",
            "Epoch 7/20\n",
            "39998/39998 [==============================] - 5s 116us/step - loss: 0.5248 - mean_squared_error: 0.5248 - val_loss: 0.9053 - val_mean_squared_error: 0.9053\n",
            "Epoch 8/20\n",
            "39998/39998 [==============================] - 5s 115us/step - loss: 0.5116 - mean_squared_error: 0.5116 - val_loss: 0.8994 - val_mean_squared_error: 0.8994\n",
            "Epoch 9/20\n",
            "39998/39998 [==============================] - 5s 117us/step - loss: 0.5005 - mean_squared_error: 0.5005 - val_loss: 0.8992 - val_mean_squared_error: 0.8992\n",
            "Epoch 10/20\n",
            "39998/39998 [==============================] - 5s 115us/step - loss: 0.4903 - mean_squared_error: 0.4903 - val_loss: 0.9073 - val_mean_squared_error: 0.9073\n",
            "Epoch 11/20\n",
            "39998/39998 [==============================] - 5s 115us/step - loss: 0.4820 - mean_squared_error: 0.4820 - val_loss: 0.9061 - val_mean_squared_error: 0.9061\n",
            "Epoch 12/20\n",
            "39998/39998 [==============================] - 5s 116us/step - loss: 0.4790 - mean_squared_error: 0.4790 - val_loss: 0.9101 - val_mean_squared_error: 0.9101\n",
            "Epoch 13/20\n",
            "39998/39998 [==============================] - 5s 116us/step - loss: 0.4707 - mean_squared_error: 0.4707 - val_loss: 0.9072 - val_mean_squared_error: 0.9072\n",
            "Epoch 14/20\n",
            "39998/39998 [==============================] - 5s 116us/step - loss: 0.4613 - mean_squared_error: 0.4613 - val_loss: 0.9071 - val_mean_squared_error: 0.9071\n",
            "Epoch 15/20\n",
            "39998/39998 [==============================] - 5s 116us/step - loss: 0.4601 - mean_squared_error: 0.4601 - val_loss: 0.9076 - val_mean_squared_error: 0.9076\n",
            "Epoch 16/20\n",
            "39998/39998 [==============================] - 5s 115us/step - loss: 0.4583 - mean_squared_error: 0.4583 - val_loss: 0.9028 - val_mean_squared_error: 0.9028\n",
            "Epoch 17/20\n",
            "39998/39998 [==============================] - 5s 116us/step - loss: 0.4549 - mean_squared_error: 0.4549 - val_loss: 0.8973 - val_mean_squared_error: 0.8973\n",
            "Epoch 18/20\n",
            "39998/39998 [==============================] - 5s 115us/step - loss: 0.4463 - mean_squared_error: 0.4463 - val_loss: 0.9032 - val_mean_squared_error: 0.9032\n",
            "Epoch 19/20\n",
            "39998/39998 [==============================] - 5s 118us/step - loss: 0.4478 - mean_squared_error: 0.4478 - val_loss: 0.9031 - val_mean_squared_error: 0.9031\n",
            "Epoch 20/20\n",
            "39998/39998 [==============================] - 5s 116us/step - loss: 0.4455 - mean_squared_error: 0.4455 - val_loss: 0.9070 - val_mean_squared_error: 0.9070\n",
            "Test RMSE: 1.073300044359594\n"
          ],
          "name": "stdout"
        }
      ]
    }
  ]
}