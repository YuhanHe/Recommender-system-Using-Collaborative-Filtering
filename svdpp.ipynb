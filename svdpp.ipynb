{
  "nbformat": 4,
  "nbformat_minor": 0,
  "metadata": {
    "colab": {
      "name": "svdpp.ipynb",
      "version": "0.3.2",
      "provenance": []
    },
    "kernelspec": {
      "name": "python3",
      "display_name": "Python 3"
    },
    "accelerator": "GPU"
  },
  "cells": [
    {
      "cell_type": "code",
      "metadata": {
        "id": "XOEUPJa49cZ7",
        "colab_type": "code",
        "colab": {}
      },
      "source": [
        "#use gpu to accelerate training\n",
        "!nvidia-smi"
      ],
      "execution_count": 0,
      "outputs": []
    },
    {
      "cell_type": "code",
      "metadata": {
        "id": "eHmQq9Xv-kZM",
        "colab_type": "code",
        "colab": {}
      },
      "source": [
        "%cd /content\n",
        "!git clone https://github.com/Brycexu727/movielens-dataset.git\n",
        "%cd movielens-dataset"
      ],
      "execution_count": 0,
      "outputs": []
    },
    {
      "cell_type": "markdown",
      "metadata": {
        "id": "-IhjLTfeZrVs",
        "colab_type": "text"
      },
      "source": [
        "## Compare SVD and SVD++"
      ]
    },
    {
      "cell_type": "code",
      "metadata": {
        "id": "aDDCPXGz4h4i",
        "colab_type": "code",
        "colab": {}
      },
      "source": [
        "!pip install surprise"
      ],
      "execution_count": 0,
      "outputs": []
    },
    {
      "cell_type": "code",
      "metadata": {
        "id": "pQGjuaMpZyqj",
        "colab_type": "code",
        "outputId": "ca841a8c-46c0-49ed-eedc-b25e99f479a3",
        "colab": {
          "base_uri": "https://localhost:8080/",
          "height": 119
        }
      },
      "source": [
        "from surprise import SVD\n",
        "from surprise import SVDpp\n",
        "from surprise import Dataset\n",
        "from surprise.model_selection import cross_validate\n",
        "# Load the movielens-100k dataset (download it if needed).\n",
        "data_100k = Dataset.load_builtin('ml-100k')\n",
        "# Load the movielens-1m dataset (download it if needed).\n",
        "data_1m = Dataset.load_builtin('ml-1m')\n",
        "# Use the famous SVD algorithm.\n",
        "algo_svd = SVD()\n",
        "# Use the famous SVDpp algorithm.\n",
        "algo_svdpp = SVDpp()"
      ],
      "execution_count": 0,
      "outputs": [
        {
          "output_type": "stream",
          "text": [
            "Dataset ml-100k could not be found. Do you want to download it? [Y/n] Y\n",
            "Trying to download dataset from http://files.grouplens.org/datasets/movielens/ml-100k.zip...\n",
            "Done! Dataset ml-100k has been saved to /root/.surprise_data/ml-100k\n",
            "Dataset ml-1m could not be found. Do you want to download it? [Y/n] Y\n",
            "Trying to download dataset from http://files.grouplens.org/datasets/movielens/ml-1m.zip...\n",
            "Done! Dataset ml-1m has been saved to /root/.surprise_data/ml-1m\n"
          ],
          "name": "stdout"
        }
      ]
    },
    {
      "cell_type": "markdown",
      "metadata": {
        "id": "oa6Zb5cfZnd7",
        "colab_type": "text"
      },
      "source": [
        "### SVD on ml-100k dataset"
      ]
    },
    {
      "cell_type": "code",
      "metadata": {
        "id": "P0uZaZZu4fHz",
        "colab_type": "code",
        "outputId": "a1bb2963-9250-44c5-de8e-bbba038bddd2",
        "colab": {
          "base_uri": "https://localhost:8080/",
          "height": 407
        }
      },
      "source": [
        "cross_validate(algo_svd, data_100k, measures=['RMSE', 'MAE'], cv=5, verbose=True)"
      ],
      "execution_count": 0,
      "outputs": [
        {
          "output_type": "stream",
          "text": [
            "Dataset ml-100k could not be found. Do you want to download it? [Y/n] Y\n",
            "Trying to download dataset from http://files.grouplens.org/datasets/movielens/ml-100k.zip...\n",
            "Done! Dataset ml-100k has been saved to /root/.surprise_data/ml-100k\n",
            "Evaluating RMSE, MAE of algorithm SVD on 5 split(s).\n",
            "\n",
            "                  Fold 1  Fold 2  Fold 3  Fold 4  Fold 5  Mean    Std     \n",
            "RMSE (testset)    0.9272  0.9363  0.9352  0.9439  0.9397  0.9365  0.0055  \n",
            "MAE (testset)     0.7317  0.7383  0.7363  0.7456  0.7385  0.7381  0.0045  \n",
            "Fit time          5.30    5.38    5.41    5.43    5.46    5.40    0.05    \n",
            "Test time         0.24    0.14    0.21    0.15    0.22    0.19    0.04    \n"
          ],
          "name": "stdout"
        },
        {
          "output_type": "execute_result",
          "data": {
            "text/plain": [
              "{'fit_time': (5.297297239303589,\n",
              "  5.384165525436401,\n",
              "  5.409098386764526,\n",
              "  5.432192087173462,\n",
              "  5.4572224617004395),\n",
              " 'test_mae': array([0.73168601, 0.73832957, 0.73627475, 0.74557738, 0.73848016]),\n",
              " 'test_rmse': array([0.92724899, 0.93632691, 0.9351825 , 0.94387332, 0.93969909]),\n",
              " 'test_time': (0.23621797561645508,\n",
              "  0.14229655265808105,\n",
              "  0.2149503231048584,\n",
              "  0.14641618728637695,\n",
              "  0.21675705909729004)}"
            ]
          },
          "metadata": {
            "tags": []
          },
          "execution_count": 7
        }
      ]
    },
    {
      "cell_type": "code",
      "metadata": {
        "id": "LYN5UCwwBbO7",
        "colab_type": "code",
        "outputId": "23f668db-fc2b-4fd3-8ef3-77a78ac7fec8",
        "colab": {
          "base_uri": "https://localhost:8080/",
          "height": 204
        }
      },
      "source": [
        "cross_validate(algo_svd, data_100k, measures=['RMSE', 'MAE'], cv=2, verbose=True)"
      ],
      "execution_count": 0,
      "outputs": [
        {
          "output_type": "stream",
          "text": [
            "Evaluating RMSE, MAE of algorithm SVD on 2 split(s).\n",
            "\n",
            "                  Fold 1  Fold 2  Mean    Std     \n",
            "RMSE (testset)    0.9570  0.9552  0.9561  0.0009  \n",
            "MAE (testset)     0.7568  0.7539  0.7553  0.0015  \n",
            "Fit time          3.16    3.17    3.16    0.01    \n",
            "Test time         0.45    0.44    0.44    0.00    \n"
          ],
          "name": "stdout"
        },
        {
          "output_type": "execute_result",
          "data": {
            "text/plain": [
              "{'fit_time': (3.1581077575683594, 3.170271873474121),\n",
              " 'test_mae': array([0.75680225, 0.75388292]),\n",
              " 'test_rmse': array([0.9569558 , 0.95522226]),\n",
              " 'test_time': (0.44936704635620117, 0.43969178199768066)}"
            ]
          },
          "metadata": {
            "tags": []
          },
          "execution_count": 6
        }
      ]
    },
    {
      "cell_type": "markdown",
      "metadata": {
        "id": "0Q8vYerFZgEi",
        "colab_type": "text"
      },
      "source": [
        "### SVD on ml-1m dataset"
      ]
    },
    {
      "cell_type": "code",
      "metadata": {
        "id": "IxZedYIk92cs",
        "colab_type": "code",
        "outputId": "831656b1-b51c-4e2d-e04d-8983b041c830",
        "colab": {
          "base_uri": "https://localhost:8080/",
          "height": 407
        }
      },
      "source": [
        "cross_validate(algo_svd, data_1m, measures=['RMSE', 'MAE'], cv=5, verbose=True)"
      ],
      "execution_count": 0,
      "outputs": [
        {
          "output_type": "stream",
          "text": [
            "Dataset ml-1m could not be found. Do you want to download it? [Y/n] Y\n",
            "Trying to download dataset from http://files.grouplens.org/datasets/movielens/ml-1m.zip...\n",
            "Done! Dataset ml-1m has been saved to /root/.surprise_data/ml-1m\n",
            "Evaluating RMSE, MAE of algorithm SVD on 5 split(s).\n",
            "\n",
            "                  Fold 1  Fold 2  Fold 3  Fold 4  Fold 5  Mean    Std     \n",
            "RMSE (testset)    0.8739  0.8746  0.8746  0.8755  0.8722  0.8742  0.0011  \n",
            "MAE (testset)     0.6857  0.6866  0.6862  0.6870  0.6853  0.6862  0.0006  \n",
            "Fit time          54.41   55.32   55.25   55.53   55.14   55.13   0.38    \n",
            "Test time         2.41    2.72    2.43    2.70    2.41    2.53    0.14    \n"
          ],
          "name": "stdout"
        },
        {
          "output_type": "execute_result",
          "data": {
            "text/plain": [
              "{'fit_time': (54.41116380691528,\n",
              "  55.323996782302856,\n",
              "  55.25385022163391,\n",
              "  55.52566146850586,\n",
              "  55.141889572143555),\n",
              " 'test_mae': array([0.68572013, 0.68655018, 0.68618719, 0.68704165, 0.68527403]),\n",
              " 'test_rmse': array([0.87388993, 0.87460577, 0.87459368, 0.87546128, 0.87221728]),\n",
              " 'test_time': (2.4076004028320312,\n",
              "  2.715939521789551,\n",
              "  2.4276373386383057,\n",
              "  2.695793628692627,\n",
              "  2.413038969039917)}"
            ]
          },
          "metadata": {
            "tags": []
          },
          "execution_count": 10
        }
      ]
    },
    {
      "cell_type": "code",
      "metadata": {
        "id": "Qq3umWwsCcNN",
        "colab_type": "code",
        "colab": {}
      },
      "source": [
        "cross_validate(algo_svd, data_1m, measures=['RMSE', 'MAE'], cv=2, verbose=True)"
      ],
      "execution_count": 0,
      "outputs": []
    },
    {
      "cell_type": "markdown",
      "metadata": {
        "id": "7veCo4VkZRgE",
        "colab_type": "text"
      },
      "source": [
        "### SVD++ on ml-100k dataset"
      ]
    },
    {
      "cell_type": "code",
      "metadata": {
        "id": "q3yBIntq5Sb7",
        "colab_type": "code",
        "outputId": "5b7114e6-d58c-46ea-83c6-0b08cc3a36ce",
        "colab": {
          "base_uri": "https://localhost:8080/",
          "height": 354
        }
      },
      "source": [
        "cross_validate(algo_svdpp, data_100k, measures=['RMSE', 'MAE'], cv=5, verbose=True)"
      ],
      "execution_count": 0,
      "outputs": [
        {
          "output_type": "stream",
          "text": [
            "Evaluating RMSE, MAE of algorithm SVDpp on 5 split(s).\n",
            "\n",
            "                  Fold 1  Fold 2  Fold 3  Fold 4  Fold 5  Mean    Std     \n",
            "RMSE (testset)    0.9239  0.9174  0.9239  0.9124  0.9199  0.9195  0.0043  \n",
            "MAE (testset)     0.7244  0.7144  0.7233  0.7144  0.7247  0.7202  0.0048  \n",
            "Fit time          209.92  210.44  210.59  212.95  211.74  211.13  1.09    \n",
            "Test time         3.42    3.42    3.50    3.48    3.37    3.44    0.05    \n"
          ],
          "name": "stdout"
        },
        {
          "output_type": "execute_result",
          "data": {
            "text/plain": [
              "{'fit_time': (209.9221625328064,\n",
              "  210.44317722320557,\n",
              "  210.59267282485962,\n",
              "  212.94630074501038,\n",
              "  211.74424242973328),\n",
              " 'test_mae': array([0.72443347, 0.71436338, 0.72326064, 0.71437187, 0.72471092]),\n",
              " 'test_rmse': array([0.92393016, 0.91737956, 0.92394236, 0.912445  , 0.91986227]),\n",
              " 'test_time': (3.419959306716919,\n",
              "  3.4167094230651855,\n",
              "  3.49666690826416,\n",
              "  3.483726978302002,\n",
              "  3.369414806365967)}"
            ]
          },
          "metadata": {
            "tags": []
          },
          "execution_count": 8
        }
      ]
    },
    {
      "cell_type": "code",
      "metadata": {
        "id": "lxyapgstBv5l",
        "colab_type": "code",
        "outputId": "b583c7ea-a0fa-4625-eaa7-fddfffab5072",
        "colab": {
          "base_uri": "https://localhost:8080/",
          "height": 204
        }
      },
      "source": [
        "cross_validate(algo_svdpp, data_100k, measures=['RMSE', 'MAE'], cv=2, verbose=True)"
      ],
      "execution_count": 0,
      "outputs": [
        {
          "output_type": "stream",
          "text": [
            "Evaluating RMSE, MAE of algorithm SVDpp on 2 split(s).\n",
            "\n",
            "                  Fold 1  Fold 2  Mean    Std     \n",
            "RMSE (testset)    0.9399  0.9387  0.9393  0.0006  \n",
            "MAE (testset)     0.7395  0.7399  0.7397  0.0002  \n",
            "Fit time          80.29   79.40   79.84   0.45    \n",
            "Test time         4.79    4.65    4.72    0.07    \n"
          ],
          "name": "stdout"
        },
        {
          "output_type": "execute_result",
          "data": {
            "text/plain": [
              "{'fit_time': (80.29035234451294, 79.39882493019104),\n",
              " 'test_mae': array([0.73947284, 0.7399076 ]),\n",
              " 'test_rmse': array([0.939916  , 0.93866775]),\n",
              " 'test_time': (4.7900354862213135, 4.64910888671875)}"
            ]
          },
          "metadata": {
            "tags": []
          },
          "execution_count": 7
        }
      ]
    },
    {
      "cell_type": "markdown",
      "metadata": {
        "id": "MK6JqXBBZG1W",
        "colab_type": "text"
      },
      "source": [
        "### SVD++ on ml-1m dataset"
      ]
    },
    {
      "cell_type": "code",
      "metadata": {
        "id": "yAjm4Y1O-CQN",
        "colab_type": "code",
        "outputId": "c390c832-e190-4e68-8b35-3d709ab55a7f",
        "colab": {
          "base_uri": "https://localhost:8080/",
          "height": 340
        }
      },
      "source": [
        "cross_validate(algo_svdpp, data_1m, measures=['RMSE', 'MAE'], cv=5, verbose=True)"
      ],
      "execution_count": 0,
      "outputs": [
        {
          "output_type": "stream",
          "text": [
            "Evaluating RMSE, MAE of algorithm SVDpp on 5 split(s).\n",
            "\n",
            "                  Fold 1  Fold 2  Fold 3  Fold 4  Fold 5  Mean    Std     \n",
            "RMSE (testset)    0.8594  0.8624  0.8626  0.8603  0.8611  0.8612  0.0012  \n",
            "MAE (testset)     0.6699  0.6721  0.6731  0.6716  0.6717  0.6717  0.0011  \n",
            "Fit time          5958.15 4298.28 4231.17 4164.77 4033.58 4537.19 715.84  \n",
            "Test time         115.97  69.91   69.93   66.71   66.90   77.88   19.09   \n"
          ],
          "name": "stdout"
        },
        {
          "output_type": "execute_result",
          "data": {
            "text/plain": [
              "{'fit_time': (5958.152229547501,\n",
              "  4298.28080368042,\n",
              "  4231.173326969147,\n",
              "  4164.774852514267,\n",
              "  4033.5843636989594),\n",
              " 'test_mae': array([0.66985294, 0.67211415, 0.67314839, 0.67162227, 0.6716573 ]),\n",
              " 'test_rmse': array([0.85943436, 0.86244281, 0.86257174, 0.86025778, 0.86110188]),\n",
              " 'test_time': (115.96885299682617,\n",
              "  69.90640449523926,\n",
              "  69.92624115943909,\n",
              "  66.70524263381958,\n",
              "  66.89910578727722)}"
            ]
          },
          "metadata": {
            "tags": []
          },
          "execution_count": 11
        }
      ]
    },
    {
      "cell_type": "code",
      "metadata": {
        "id": "otZizI3pCHCv",
        "colab_type": "code",
        "outputId": "5a6d7ebf-f504-469f-bab1-1b8d7fe09a43",
        "colab": {
          "base_uri": "https://localhost:8080/"
        }
      },
      "source": [
        "cross_validate(algo_svdpp, data_1m, measures=['RMSE', 'MAE'], cv=2, verbose=True)"
      ],
      "execution_count": 0,
      "outputs": [
        {
          "output_type": "stream",
          "text": [
            "Evaluating RMSE, MAE of algorithm SVDpp on 2 split(s).\n",
            "\n",
            "                  Fold 1  Fold 2  Mean    Std     \n",
            "RMSE (testset)    0.8843  0.8862  0.8852  0.0009  \n",
            "MAE (testset)     0.6926  0.6931  0.6928  0.0003  \n",
            "Fit time          1552.40 1481.98 1517.19 35.21   \n",
            "Test time         93.33   92.01   92.67   0.66    \n"
          ],
          "name": "stdout"
        },
        {
          "output_type": "execute_result",
          "data": {
            "text/plain": [
              "{'fit_time': (1552.4022042751312, 1481.9790742397308),\n",
              " 'test_mae': array([0.69256647, 0.69310188]),\n",
              " 'test_rmse': array([0.88427234, 0.88616206]),\n",
              " 'test_time': (93.32935976982117, 92.01345992088318)}"
            ]
          },
          "metadata": {
            "tags": []
          },
          "execution_count": 8
        }
      ]
    }
  ]
}